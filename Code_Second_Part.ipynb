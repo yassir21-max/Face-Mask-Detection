{
 "cells": [
  {
   "cell_type": "code",
   "execution_count": 2,
   "metadata": {},
   "outputs": [],
   "source": [
    "import cv2\n",
    "import numpy as np\n",
    "import pandas as pd\n",
    "import matplotlib.pyplot as plt\n",
    "from sklearn.preprocessing import StandardScaler\n",
    "from sklearn.pipeline import Pipeline"
   ]
  },
  {
   "cell_type": "code",
   "execution_count": 3,
   "metadata": {},
   "outputs": [],
   "source": [
    "withmask = np.load('with_mask.npy')\n",
    "withoutmask = np.load('without_mask.npy')"
   ]
  },
  {
   "cell_type": "code",
   "execution_count": 4,
   "metadata": {},
   "outputs": [
    {
     "data": {
      "text/plain": [
       "((201, 50, 50, 3), (201, 50, 50, 3))"
      ]
     },
     "execution_count": 4,
     "metadata": {},
     "output_type": "execute_result"
    }
   ],
   "source": [
    "withmask.shape, withoutmask.shape"
   ]
  },
  {
   "cell_type": "code",
   "execution_count": 4,
   "metadata": {},
   "outputs": [],
   "source": [
    "withmask = withmask.reshape(201, 50*50*3)\n",
    "withoutmask = withoutmask.reshape(201, 50*50*3)"
   ]
  },
  {
   "cell_type": "code",
   "execution_count": 6,
   "metadata": {},
   "outputs": [
    {
     "data": {
      "text/plain": [
       "((201, 7500), (201, 7500))"
      ]
     },
     "execution_count": 6,
     "metadata": {},
     "output_type": "execute_result"
    }
   ],
   "source": [
    "withmask.shape, withoutmask.shape"
   ]
  },
  {
   "cell_type": "code",
   "execution_count": 5,
   "metadata": {},
   "outputs": [],
   "source": [
    "X= np.r_[withmask, withoutmask]"
   ]
  },
  {
   "cell_type": "code",
   "execution_count": 8,
   "metadata": {},
   "outputs": [
    {
     "data": {
      "text/plain": [
       "(402, 7500)"
      ]
     },
     "execution_count": 8,
     "metadata": {},
     "output_type": "execute_result"
    }
   ],
   "source": [
    "X.shape"
   ]
  },
  {
   "cell_type": "code",
   "execution_count": 6,
   "metadata": {},
   "outputs": [],
   "source": [
    "# with_mask = 0 , without = 1\n",
    "labels = np.zeros(X.shape[0])\n",
    "labels[201:] = 1.0"
   ]
  },
  {
   "cell_type": "code",
   "execution_count": 7,
   "metadata": {},
   "outputs": [
    {
     "data": {
      "text/plain": [
       "((321, 7500), (81, 7500))"
      ]
     },
     "execution_count": 7,
     "metadata": {},
     "output_type": "execute_result"
    }
   ],
   "source": [
    "from sklearn.svm import SVC\n",
    "from sklearn.metrics import accuracy_score\n",
    "from sklearn.model_selection import train_test_split\n",
    "\n",
    "X_train, X_test, y_train, y_test = train_test_split(X, labels, test_size=0.2, shuffle=True)\n",
    "X_train.shape, X_test.shape"
   ]
  },
  {
   "cell_type": "code",
   "execution_count": 8,
   "metadata": {},
   "outputs": [],
   "source": [
    "# too much attributes, lets reduce em using PCA\n",
    "from sklearn.decomposition import PCA\n",
    "n_comp = 3\n",
    "pca = PCA(n_components=n_comp)\n",
    "X_train = pca.fit_transform(X_train)"
   ]
  },
  {
   "cell_type": "code",
   "execution_count": 12,
   "metadata": {},
   "outputs": [
    {
     "data": {
      "text/plain": [
       "(321, 3)"
      ]
     },
     "execution_count": 12,
     "metadata": {},
     "output_type": "execute_result"
    }
   ],
   "source": [
    "X_train.shape"
   ]
  },
  {
   "cell_type": "code",
   "execution_count": 9,
   "metadata": {},
   "outputs": [],
   "source": [
    "X_test = pca.transform(X_test)"
   ]
  },
  {
   "cell_type": "code",
   "execution_count": 74,
   "metadata": {},
   "outputs": [
    {
     "data": {
      "text/plain": [
       "(81, 3)"
      ]
     },
     "execution_count": 74,
     "metadata": {},
     "output_type": "execute_result"
    }
   ],
   "source": [
    "X_test.shape"
   ]
  },
  {
   "cell_type": "code",
   "execution_count": 10,
   "metadata": {},
   "outputs": [
    {
     "data": {
      "text/plain": [
       "SVC()"
      ]
     },
     "execution_count": 10,
     "metadata": {},
     "output_type": "execute_result"
    }
   ],
   "source": [
    "svm = SVC()\n",
    "svm.fit(X_train, y_train)"
   ]
  },
  {
   "cell_type": "code",
   "execution_count": 11,
   "metadata": {},
   "outputs": [],
   "source": [
    "y_pred = svm.predict(X_test)"
   ]
  },
  {
   "cell_type": "code",
   "execution_count": 12,
   "metadata": {},
   "outputs": [
    {
     "data": {
      "text/plain": [
       "1.0"
      ]
     },
     "execution_count": 12,
     "metadata": {},
     "output_type": "execute_result"
    }
   ],
   "source": [
    "accuracy_score(y_test,y_pred)"
   ]
  },
  {
   "cell_type": "code",
   "execution_count": 13,
   "metadata": {},
   "outputs": [],
   "source": [
    "names = {0:'Mask', 1:'No Mask'}"
   ]
  },
  {
   "cell_type": "code",
   "execution_count": 14,
   "metadata": {},
   "outputs": [],
   "source": [
    "face_cascade = cv2.CascadeClassifier('./data/haarcascades/haarcascade_frontalface_default.xml')"
   ]
  },
  {
   "cell_type": "code",
   "execution_count": 15,
   "metadata": {},
   "outputs": [
    {
     "name": "stdout",
     "output_type": "stream",
     "text": [
      "No Mask\n",
      "No Mask\n",
      "No Mask\n",
      "No Mask\n",
      "No Mask\n",
      "No Mask\n",
      "No Mask\n",
      "No Mask\n",
      "No Mask\n",
      "No Mask\n",
      "No Mask\n",
      "No Mask\n",
      "No Mask\n",
      "No Mask\n",
      "No Mask\n",
      "No Mask\n",
      "No Mask\n",
      "Mask\n",
      "No Mask\n",
      "No Mask\n",
      "No Mask\n",
      "No Mask\n",
      "No Mask\n",
      "No Mask\n",
      "Mask\n",
      "No Mask\n",
      "No Mask\n",
      "No Mask\n",
      "Mask\n",
      "No Mask\n",
      "No Mask\n",
      "No Mask\n",
      "No Mask\n",
      "No Mask\n",
      "No Mask\n",
      "No Mask\n",
      "No Mask\n",
      "No Mask\n",
      "No Mask\n",
      "No Mask\n",
      "Mask\n",
      "No Mask\n",
      "No Mask\n",
      "No Mask\n",
      "No Mask\n",
      "Mask\n",
      "Mask\n",
      "Mask\n",
      "Mask\n",
      "Mask\n",
      "Mask\n",
      "Mask\n",
      "Mask\n",
      "Mask\n",
      "Mask\n",
      "Mask\n",
      "Mask\n",
      "Mask\n",
      "Mask\n",
      "Mask\n",
      "Mask\n",
      "Mask\n",
      "Mask\n",
      "Mask\n",
      "Mask\n",
      "Mask\n",
      "Mask\n",
      "Mask\n",
      "Mask\n",
      "Mask\n",
      "Mask\n",
      "Mask\n",
      "Mask\n",
      "Mask\n",
      "Mask\n",
      "Mask\n",
      "Mask\n",
      "Mask\n",
      "Mask\n",
      "Mask\n",
      "Mask\n",
      "Mask\n",
      "Mask\n",
      "Mask\n",
      "Mask\n",
      "Mask\n",
      "Mask\n",
      "Mask\n",
      "Mask\n",
      "Mask\n",
      "Mask\n",
      "Mask\n",
      "Mask\n",
      "Mask\n",
      "Mask\n",
      "Mask\n",
      "Mask\n",
      "Mask\n",
      "Mask\n",
      "Mask\n",
      "Mask\n",
      "Mask\n",
      "Mask\n",
      "Mask\n",
      "Mask\n",
      "Mask\n",
      "Mask\n",
      "Mask\n",
      "Mask\n",
      "Mask\n",
      "Mask\n",
      "Mask\n",
      "Mask\n",
      "Mask\n",
      "Mask\n",
      "Mask\n",
      "Mask\n",
      "Mask\n",
      "Mask\n",
      "Mask\n",
      "Mask\n",
      "Mask\n",
      "Mask\n",
      "Mask\n",
      "Mask\n",
      "Mask\n",
      "Mask\n",
      "Mask\n",
      "Mask\n",
      "Mask\n",
      "Mask\n",
      "Mask\n",
      "Mask\n",
      "Mask\n",
      "Mask\n",
      "Mask\n",
      "Mask\n",
      "Mask\n",
      "Mask\n",
      "Mask\n",
      "Mask\n",
      "Mask\n",
      "Mask\n",
      "Mask\n",
      "Mask\n",
      "Mask\n",
      "Mask\n",
      "Mask\n",
      "Mask\n",
      "Mask\n",
      "Mask\n",
      "Mask\n",
      "Mask\n",
      "Mask\n",
      "Mask\n",
      "Mask\n",
      "Mask\n",
      "Mask\n",
      "Mask\n",
      "Mask\n",
      "Mask\n",
      "Mask\n",
      "Mask\n",
      "No Mask\n",
      "No Mask\n",
      "Mask\n",
      "No Mask\n",
      "Mask\n",
      "No Mask\n",
      "No Mask\n",
      "Mask\n",
      "Mask\n",
      "No Mask\n",
      "Mask\n",
      "No Mask\n",
      "Mask\n",
      "No Mask\n",
      "No Mask\n",
      "No Mask\n",
      "No Mask\n",
      "No Mask\n",
      "No Mask\n",
      "No Mask\n",
      "No Mask\n",
      "No Mask\n",
      "Mask\n",
      "Mask\n",
      "Mask\n",
      "Mask\n",
      "Mask\n",
      "Mask\n",
      "Mask\n",
      "Mask\n",
      "Mask\n",
      "Mask\n",
      "Mask\n",
      "Mask\n",
      "Mask\n",
      "Mask\n",
      "Mask\n",
      "Mask\n",
      "Mask\n",
      "Mask\n",
      "Mask\n",
      "Mask\n",
      "Mask\n",
      "Mask\n",
      "Mask\n",
      "Mask\n",
      "Mask\n",
      "Mask\n",
      "Mask\n",
      "Mask\n",
      "Mask\n",
      "Mask\n",
      "Mask\n",
      "Mask\n",
      "Mask\n",
      "Mask\n",
      "Mask\n",
      "Mask\n",
      "Mask\n",
      "No Mask\n",
      "No Mask\n",
      "No Mask\n",
      "No Mask\n",
      "No Mask\n",
      "No Mask\n",
      "No Mask\n",
      "No Mask\n",
      "No Mask\n",
      "No Mask\n",
      "No Mask\n",
      "No Mask\n",
      "Mask\n",
      "No Mask\n",
      "No Mask\n",
      "No Mask\n",
      "No Mask\n",
      "No Mask\n",
      "No Mask\n",
      "No Mask\n",
      "Mask\n",
      "Mask\n",
      "Mask\n",
      "Mask\n",
      "Mask\n",
      "Mask\n",
      "Mask\n",
      "Mask\n",
      "Mask\n",
      "Mask\n",
      "Mask\n",
      "Mask\n",
      "Mask\n",
      "Mask\n",
      "Mask\n",
      "Mask\n",
      "No Mask\n",
      "No Mask\n",
      "No Mask\n",
      "No Mask\n",
      "No Mask\n",
      "No Mask\n",
      "No Mask\n",
      "No Mask\n",
      "No Mask\n",
      "No Mask\n",
      "No Mask\n",
      "No Mask\n",
      "Mask\n",
      "No Mask\n",
      "Mask\n",
      "Mask\n",
      "Mask\n",
      "Mask\n",
      "Mask\n",
      "Mask\n",
      "No Mask\n",
      "Mask\n",
      "No Mask\n",
      "No Mask\n",
      "No Mask\n",
      "No Mask\n",
      "No Mask\n",
      "No Mask\n",
      "No Mask\n",
      "No Mask\n",
      "Mask\n",
      "No Mask\n",
      "No Mask\n",
      "No Mask\n",
      "No Mask\n",
      "No Mask\n",
      "No Mask\n",
      "No Mask\n",
      "No Mask\n",
      "No Mask\n",
      "No Mask\n",
      "Mask\n",
      "Mask\n",
      "Mask\n",
      "Mask\n",
      "Mask\n",
      "No Mask\n",
      "Mask\n",
      "No Mask\n",
      "Mask\n",
      "Mask\n",
      "Mask\n",
      "Mask\n",
      "Mask\n",
      "Mask\n",
      "Mask\n",
      "Mask\n",
      "Mask\n",
      "Mask\n",
      "Mask\n",
      "Mask\n",
      "Mask\n",
      "Mask\n",
      "Mask\n",
      "Mask\n",
      "Mask\n",
      "Mask\n",
      "Mask\n",
      "Mask\n",
      "Mask\n",
      "Mask\n",
      "Mask\n",
      "Mask\n",
      "Mask\n",
      "Mask\n",
      "Mask\n",
      "Mask\n",
      "Mask\n",
      "Mask\n",
      "Mask\n",
      "Mask\n",
      "Mask\n",
      "Mask\n",
      "Mask\n",
      "Mask\n",
      "Mask\n",
      "Mask\n",
      "Mask\n",
      "No Mask\n",
      "No Mask\n",
      "No Mask\n",
      "No Mask\n",
      "No Mask\n",
      "No Mask\n",
      "No Mask\n",
      "No Mask\n",
      "No Mask\n",
      "No Mask\n",
      "No Mask\n",
      "No Mask\n",
      "Mask\n",
      "Mask\n",
      "Mask\n",
      "Mask\n",
      "Mask\n",
      "Mask\n",
      "Mask\n",
      "Mask\n",
      "Mask\n",
      "Mask\n",
      "Mask\n",
      "Mask\n",
      "Mask\n",
      "Mask\n",
      "Mask\n",
      "Mask\n",
      "Mask\n",
      "Mask\n",
      "Mask\n",
      "Mask\n",
      "Mask\n",
      "Mask\n",
      "Mask\n",
      "Mask\n",
      "Mask\n",
      "Mask\n",
      "Mask\n",
      "Mask\n",
      "Mask\n",
      "Mask\n",
      "Mask\n",
      "Mask\n",
      "Mask\n",
      "Mask\n",
      "Mask\n",
      "Mask\n",
      "Mask\n",
      "Mask\n",
      "Mask\n",
      "Mask\n",
      "Mask\n",
      "Mask\n",
      "Mask\n",
      "Mask\n",
      "Mask\n",
      "Mask\n",
      "Mask\n",
      "Mask\n",
      "Mask\n",
      "Mask\n",
      "Mask\n",
      "Mask\n",
      "Mask\n",
      "Mask\n",
      "Mask\n",
      "Mask\n",
      "Mask\n",
      "Mask\n",
      "Mask\n",
      "Mask\n",
      "Mask\n",
      "Mask\n",
      "Mask\n",
      "Mask\n",
      "Mask\n",
      "Mask\n",
      "Mask\n",
      "Mask\n",
      "Mask\n",
      "Mask\n",
      "Mask\n"
     ]
    },
    {
     "ename": "KeyboardInterrupt",
     "evalue": "",
     "output_type": "error",
     "traceback": [
      "\u001b[1;31m---------------------------------------------------------------------------\u001b[0m",
      "\u001b[1;31mKeyboardInterrupt\u001b[0m                         Traceback (most recent call last)",
      "\u001b[1;32m<ipython-input-15-98e9ae2f4608>\u001b[0m in \u001b[0;36m<module>\u001b[1;34m\u001b[0m\n\u001b[0;32m      5\u001b[0m     \u001b[0mflag\u001b[0m\u001b[1;33m,\u001b[0m \u001b[0mimg\u001b[0m \u001b[1;33m=\u001b[0m \u001b[0mcapture\u001b[0m\u001b[1;33m.\u001b[0m\u001b[0mread\u001b[0m\u001b[1;33m(\u001b[0m\u001b[1;33m)\u001b[0m\u001b[1;33m\u001b[0m\u001b[1;33m\u001b[0m\u001b[0m\n\u001b[0;32m      6\u001b[0m     \u001b[1;32mif\u001b[0m \u001b[0mflag\u001b[0m\u001b[1;33m:\u001b[0m\u001b[1;33m\u001b[0m\u001b[1;33m\u001b[0m\u001b[0m\n\u001b[1;32m----> 7\u001b[1;33m         \u001b[0mfaces\u001b[0m \u001b[1;33m=\u001b[0m \u001b[0mface_cascade\u001b[0m\u001b[1;33m.\u001b[0m\u001b[0mdetectMultiScale\u001b[0m\u001b[1;33m(\u001b[0m\u001b[0mimg\u001b[0m\u001b[1;33m)\u001b[0m\u001b[1;33m\u001b[0m\u001b[1;33m\u001b[0m\u001b[0m\n\u001b[0m\u001b[0;32m      8\u001b[0m         \u001b[1;32mfor\u001b[0m \u001b[0mx\u001b[0m\u001b[1;33m,\u001b[0m\u001b[0my\u001b[0m\u001b[1;33m,\u001b[0m\u001b[0mw\u001b[0m\u001b[1;33m,\u001b[0m\u001b[0mh\u001b[0m \u001b[1;32min\u001b[0m \u001b[0mfaces\u001b[0m\u001b[1;33m:\u001b[0m\u001b[1;33m\u001b[0m\u001b[1;33m\u001b[0m\u001b[0m\n\u001b[0;32m      9\u001b[0m             \u001b[0mcv2\u001b[0m\u001b[1;33m.\u001b[0m\u001b[0mrectangle\u001b[0m\u001b[1;33m(\u001b[0m\u001b[0mimg\u001b[0m\u001b[1;33m,\u001b[0m \u001b[1;33m(\u001b[0m\u001b[0mx\u001b[0m\u001b[1;33m,\u001b[0m\u001b[0my\u001b[0m\u001b[1;33m)\u001b[0m\u001b[1;33m,\u001b[0m \u001b[1;33m(\u001b[0m\u001b[0mx\u001b[0m\u001b[1;33m+\u001b[0m\u001b[0mw\u001b[0m\u001b[1;33m,\u001b[0m \u001b[0my\u001b[0m\u001b[1;33m+\u001b[0m\u001b[0mh\u001b[0m\u001b[1;33m)\u001b[0m\u001b[1;33m,\u001b[0m \u001b[1;33m(\u001b[0m\u001b[1;36m255\u001b[0m\u001b[1;33m,\u001b[0m\u001b[1;36m0\u001b[0m\u001b[1;33m,\u001b[0m\u001b[1;36m255\u001b[0m\u001b[1;33m)\u001b[0m\u001b[1;33m,\u001b[0m \u001b[1;36m4\u001b[0m\u001b[1;33m)\u001b[0m\u001b[1;33m\u001b[0m\u001b[1;33m\u001b[0m\u001b[0m\n",
      "\u001b[1;31mKeyboardInterrupt\u001b[0m: "
     ]
    }
   ],
   "source": [
    "capture = cv2.VideoCapture(0)\n",
    "data = []\n",
    "font = cv2.FONT_HERSHEY_COMPLEX\n",
    "while True:\n",
    "    flag, img = capture.read()\n",
    "    if flag:\n",
    "        faces = face_cascade.detectMultiScale(img)  \n",
    "        for x,y,w,h in faces:\n",
    "            cv2.rectangle(img, (x,y), (x+w, y+h), (255,0,255), 4)\n",
    "            face = img[y:y+h, x:x+w, :]\n",
    "            face = cv2.resize(face, (50,50))\n",
    "            face = face.reshape(1,-1)\n",
    "            face = pca.transform(face)\n",
    "            pred = svm.predict(face)[0]\n",
    "            n = names[int(pred)]\n",
    "            cv2.putText(img, n, (x,y), font, 1, (0, 255, 0), 2)\n",
    "            print(n)\n",
    "            cv2.imshow('result', img)\n",
    "        if cv2.waitKey(2) == 27 :\n",
    "            break\n",
    "\n",
    "capture.release()\n",
    "cv2.destroyAllWindows()"
   ]
  },
  {
   "cell_type": "code",
   "execution_count": null,
   "metadata": {},
   "outputs": [],
   "source": [
    "capture.release()\n",
    "cv2.destroyAllWindows()"
   ]
  },
  {
   "cell_type": "code",
   "execution_count": null,
   "metadata": {},
   "outputs": [],
   "source": []
  }
 ],
 "metadata": {
  "kernelspec": {
   "display_name": "Python 3",
   "language": "python",
   "name": "python3"
  },
  "language_info": {
   "codemirror_mode": {
    "name": "ipython",
    "version": 3
   },
   "file_extension": ".py",
   "mimetype": "text/x-python",
   "name": "python",
   "nbconvert_exporter": "python",
   "pygments_lexer": "ipython3",
   "version": "3.8.5"
  }
 },
 "nbformat": 4,
 "nbformat_minor": 4
}
